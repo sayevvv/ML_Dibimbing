{
  "cells": [
    {
      "cell_type": "markdown",
      "metadata": {
        "id": "view-in-github",
        "colab_type": "text"
      },
      "source": [
        "<a href=\"https://colab.research.google.com/github/sayevvv/ML_Dibimbing/blob/main/Assignment_DSF_Abdullah_Shamil_Basayev.ipynb\" target=\"_parent\"><img src=\"https://colab.research.google.com/assets/colab-badge.svg\" alt=\"Open In Colab\"/></a>"
      ]
    },
    {
      "cell_type": "markdown",
      "metadata": {
        "id": "gQSK7iZOyYjl"
      },
      "source": [
        "### Arahan Assignment\n",
        "0. Gunakan dataset student score\n",
        "1. Lakukan proses Exploratory data analysis\n",
        "2. Lakukan feature engineering :\n",
        "- Check Duplicated Data\n",
        "- Check Missing Value Handling\n",
        "- Outlier Analysis\n",
        "3. Lakukan modelling machine learning regression : gunakan minimal 2 model (linear regression, decision tree regressor, atau random forest regressor)\n",
        "4. Lakukan evaluasi model\n",
        "5. Berikan kesimpulan model mana yang terbaik performanya"
      ]
    },
    {
      "cell_type": "code",
      "execution_count": null,
      "metadata": {
        "id": "5N-ANQk2yXtK"
      },
      "outputs": [],
      "source": [
        "# Import libraries and resources\n",
        "import pandas as pd\n",
        "import numpy as np\n",
        "from sklearn.model_selection import train_test_split\n",
        "from sklearn.preprocessing import StandardScaler\n",
        "from sklearn.linear_model import LinearRegression\n",
        "from sklearn.ensemble import RandomForestRegressor\n",
        "from sklearn.metrics import mean_absolute_error, mean_squared_error, r2_score"
      ]
    },
    {
      "cell_type": "code",
      "execution_count": null,
      "metadata": {
        "id": "So68k7DpyYJ5"
      },
      "outputs": [],
      "source": [
        "df = pd.read_csv(\"/content/drive/MyDrive/MachineLearning/student_scores.csv\")"
      ]
    },
    {
      "cell_type": "code",
      "source": [
        "# Info dataset\n",
        "print(\"Informasi Dataset:\")\n",
        "print(df.info())"
      ],
      "metadata": {
        "id": "e4fXWlmEiMio",
        "colab": {
          "base_uri": "https://localhost:8080/"
        },
        "outputId": "6a3bd399-bd69-4fb7-e48e-c44fc1d87a5b"
      },
      "execution_count": null,
      "outputs": [
        {
          "output_type": "stream",
          "name": "stdout",
          "text": [
            "Informasi Dataset:\n",
            "<class 'pandas.core.frame.DataFrame'>\n",
            "RangeIndex: 25 entries, 0 to 24\n",
            "Data columns (total 2 columns):\n",
            " #   Column  Non-Null Count  Dtype  \n",
            "---  ------  --------------  -----  \n",
            " 0   Hours   25 non-null     float64\n",
            " 1   Scores  25 non-null     int64  \n",
            "dtypes: float64(1), int64(1)\n",
            "memory usage: 532.0 bytes\n",
            "None\n"
          ]
        }
      ]
    },
    {
      "cell_type": "code",
      "source": [
        "# Statistik deskriptif\n",
        "print(\"\\nStatistik Deskriptif:\")\n",
        "print(df.describe())"
      ],
      "metadata": {
        "id": "T9GWa9CmiMgP",
        "colab": {
          "base_uri": "https://localhost:8080/"
        },
        "outputId": "58fa98e0-a279-4774-fa51-719c85a5ef37"
      },
      "execution_count": null,
      "outputs": [
        {
          "output_type": "stream",
          "name": "stdout",
          "text": [
            "\n",
            "Statistik Deskriptif:\n",
            "           Hours     Scores\n",
            "count  25.000000  25.000000\n",
            "mean    5.012000  51.480000\n",
            "std     2.525094  25.286887\n",
            "min     1.100000  17.000000\n",
            "25%     2.700000  30.000000\n",
            "50%     4.800000  47.000000\n",
            "75%     7.400000  75.000000\n",
            "max     9.200000  95.000000\n"
          ]
        }
      ]
    },
    {
      "cell_type": "code",
      "source": [
        "# ==============================\n",
        "# 4. Feature Engineering\n",
        "# ==============================\n",
        "\n",
        "## 4.1 Check Duplicate\n",
        "duplicates = df.duplicated().sum()\n",
        "print(f\"\\nJumlah duplikasi: {duplicates}\")\n",
        "df = df.drop_duplicates()\n",
        "\n",
        "## 4.2 Check Missing Value\n",
        "missing_values = df.isnull().sum()\n",
        "print(\"\\nMissing Values:\")\n",
        "print(missing_values)\n",
        "\n",
        "# Jika ada missing value → drop (opsional: bisa imputasi)\n",
        "df = df.dropna()\n",
        "\n",
        "## 4.3 Outlier Analysis (IQR Method)\n",
        "def detect_outliers_iqr(data, column):\n",
        "    Q1 = data[column].quantile(0.25)\n",
        "    Q3 = data[column].quantile(0.75)\n",
        "    IQR = Q3 - Q1\n",
        "    lower = Q1 - 1.5 * IQR\n",
        "    upper = Q3 + 1.5 * IQR\n",
        "    return data[(data[column] < lower) | (data[column] > upper)]\n",
        "\n",
        "outliers = detect_outliers_iqr(df, \"Scores\")\n",
        "print(f\"\\nJumlah Outlier pada kolom Scores: {len(outliers)}\")"
      ],
      "metadata": {
        "id": "ME_boq5NiMdw",
        "colab": {
          "base_uri": "https://localhost:8080/"
        },
        "outputId": "e267240a-c436-4f08-f9f6-8f366aaf337e"
      },
      "execution_count": null,
      "outputs": [
        {
          "output_type": "stream",
          "name": "stdout",
          "text": [
            "\n",
            "Jumlah duplikasi: 0\n",
            "\n",
            "Missing Values:\n",
            "Hours     0\n",
            "Scores    0\n",
            "dtype: int64\n",
            "\n",
            "Jumlah Outlier pada kolom Scores: 0\n"
          ]
        }
      ]
    },
    {
      "cell_type": "code",
      "source": [
        "# ==============================\n",
        "# 5. Modeling\n",
        "# ==============================\n",
        "\n",
        "# X = Fitur, y = Target\n",
        "X = df[['Hours']]\n",
        "y = df['Scores']\n",
        "\n",
        "# Split dataset (80% train, 20% test)\n",
        "X_train, X_test, y_train, y_test = train_test_split(X, y, test_size=0.2, random_state=42)\n",
        "\n",
        "# Standardisasi (khusus model linear regression)\n",
        "scaler = StandardScaler()\n",
        "X_train_scaled = scaler.fit_transform(X_train)\n",
        "X_test_scaled = scaler.transform(X_test)"
      ],
      "metadata": {
        "id": "XgDmKMtriMbQ"
      },
      "execution_count": null,
      "outputs": []
    },
    {
      "cell_type": "code",
      "source": [
        "# ==============================\n",
        "# Model 1: Linear Regression\n",
        "# ==============================\n",
        "lin_reg = LinearRegression()\n",
        "lin_reg.fit(X_train_scaled, y_train)\n",
        "y_pred_lr = lin_reg.predict(X_test_scaled)\n",
        "\n",
        "# Evaluasi Linear Regression\n",
        "mae_lr = mean_absolute_error(y_test, y_pred_lr)\n",
        "mse_lr = mean_squared_error(y_test, y_pred_lr)\n",
        "rmse_lr = np.sqrt(mse_lr)\n",
        "r2_lr = r2_score(y_test, y_pred_lr)"
      ],
      "metadata": {
        "id": "pKItDpOBhSYv"
      },
      "execution_count": null,
      "outputs": []
    },
    {
      "cell_type": "code",
      "source": [
        "# ==============================\n",
        "# Model 2: Random Forest Regressor\n",
        "# ==============================\n",
        "rf_reg = RandomForestRegressor(n_estimators=300, random_state=42)\n",
        "rf_reg.fit(X_train, y_train)\n",
        "y_pred_rf = rf_reg.predict(X_test)\n",
        "\n",
        "# Evaluasi Random Forest\n",
        "mae_rf = mean_absolute_error(y_test, y_pred_rf)\n",
        "mse_rf = mean_squared_error(y_test, y_pred_rf)\n",
        "rmse_rf = np.sqrt(mse_rf)\n",
        "r2_rf = r2_score(y_test, y_pred_rf)"
      ],
      "metadata": {
        "id": "tN93X2YuhVWp"
      },
      "execution_count": null,
      "outputs": []
    },
    {
      "cell_type": "code",
      "source": [
        "# ==============================\n",
        "# 6. Hasil Evaluasi\n",
        "# ==============================\n",
        "results = pd.DataFrame({\n",
        "    \"Model\": [\"Linear Regression\", \"Random Forest Regressor\"],\n",
        "    \"MAE\": [mae_lr, mae_rf],\n",
        "    \"MSE\": [mse_lr, mse_rf],\n",
        "    \"RMSE\": [rmse_lr, rmse_rf],\n",
        "    \"R2\": [r2_lr, r2_rf]\n",
        "})\n",
        "\n",
        "print(\"\\nHasil Evaluasi Model:\")\n",
        "print(results.sort_values(by=\"R2\", ascending=False))"
      ],
      "metadata": {
        "id": "J2fDkAFLhYSd",
        "outputId": "aacd5db7-c444-4410-d297-872bf63d8c85",
        "colab": {
          "base_uri": "https://localhost:8080/"
        }
      },
      "execution_count": null,
      "outputs": [
        {
          "output_type": "stream",
          "name": "stdout",
          "text": [
            "\n",
            "Hasil Evaluasi Model:\n",
            "                     Model       MAE        MSE      RMSE        R2\n",
            "1  Random Forest Regressor  2.903333  11.931989  3.454271  0.979721\n",
            "0        Linear Regression  3.920751  18.943212  4.352380  0.967806\n"
          ]
        }
      ]
    },
    {
      "cell_type": "code",
      "source": [
        "# ==============================\n",
        "# 7. Kesimpulan\n",
        "# ==============================\n",
        "if r2_rf > r2_lr:\n",
        "    print(f\"\\nModel terbaik adalah **Random Forest** dengan R² = {r2_rf:.4f}\")\n",
        "else:\n",
        "    print(f\"\\nModel terbaik adalah **Linear Regression** dengan R² = {r2_lr:.4f}\")"
      ],
      "metadata": {
        "id": "NPd-LZluha_y",
        "outputId": "0eca9134-b992-4c15-a4ed-de07efd3abe3",
        "colab": {
          "base_uri": "https://localhost:8080/"
        }
      },
      "execution_count": null,
      "outputs": [
        {
          "output_type": "stream",
          "name": "stdout",
          "text": [
            "\n",
            "Model terbaik adalah **Random Forest** dengan R² = 0.9797\n"
          ]
        }
      ]
    }
  ],
  "metadata": {
    "colab": {
      "provenance": [],
      "include_colab_link": true
    },
    "kernelspec": {
      "display_name": "Python 3",
      "name": "python3"
    },
    "language_info": {
      "name": "python"
    }
  },
  "nbformat": 4,
  "nbformat_minor": 0
}